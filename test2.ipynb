{
 "cells": [
  {
   "cell_type": "code",
   "execution_count": 2,
   "metadata": {},
   "outputs": [],
   "source": [
    "import torch\n",
    "from transformers import PreTrainedModel\n",
    "from loader.model_loader import load_vision_model, load_llm\n",
    "from vision.projector import load_vision_projector\n",
    "from vision.feature_select import feature_select\n",
    "from vision.learned_encoding import load_learned_positional\n",
    "from image_handling.padding import resize_with_padding, load_images\n",
    "from image_handling.slice import split_image\n",
    "from transformers import BitsAndBytesConfig\n",
    "import math\n",
    "import requests\n",
    "from PIL import Image\n",
    "from io import BytesIO\n"
   ]
  },
  {
   "cell_type": "code",
   "execution_count": 3,
   "metadata": {},
   "outputs": [
    {
     "ename": "TypeError",
     "evalue": "load_llm() got an unexpected keyword argument 'quantization_config'",
     "output_type": "error",
     "traceback": [
      "\u001b[1;31m---------------------------------------------------------------------------\u001b[0m",
      "\u001b[1;31mTypeError\u001b[0m                                 Traceback (most recent call last)",
      "Cell \u001b[1;32mIn[3], line 4\u001b[0m\n\u001b[0;32m      2\u001b[0m quantization_config \u001b[38;5;241m=\u001b[39m BitsAndBytesConfig(load_in_8bit\u001b[38;5;241m=\u001b[39m\u001b[38;5;28;01mTrue\u001b[39;00m, bnb_4bit_compute_dtype\u001b[38;5;241m=\u001b[39mtorch\u001b[38;5;241m.\u001b[39mbfloat16)\n\u001b[0;32m      3\u001b[0m vision_model , image_processor \u001b[38;5;241m=\u001b[39m load_vision_model(\u001b[38;5;124m\"\u001b[39m\u001b[38;5;124mlaion/CLIP-ViT-H-14-laion2B-s32B-b79K\u001b[39m\u001b[38;5;124m\"\u001b[39m, device \u001b[38;5;241m=\u001b[39m device, cache_dir\u001b[38;5;241m=\u001b[39m\u001b[38;5;124m\"\u001b[39m\u001b[38;5;124mD:/Models\u001b[39m\u001b[38;5;124m\"\u001b[39m )\n\u001b[1;32m----> 4\u001b[0m llm, tokenizer \u001b[38;5;241m=\u001b[39m \u001b[43mload_llm\u001b[49m\u001b[43m(\u001b[49m\u001b[38;5;124;43m\"\u001b[39;49m\u001b[38;5;124;43mllama3/8B-instruct\u001b[39;49m\u001b[38;5;124;43m\"\u001b[39;49m\u001b[43m,\u001b[49m\u001b[43m \u001b[49m\u001b[43mdevice\u001b[49m\u001b[43m \u001b[49m\u001b[38;5;241;43m=\u001b[39;49m\u001b[43m \u001b[49m\u001b[43mdevice\u001b[49m\u001b[43m,\u001b[49m\u001b[43m \u001b[49m\u001b[43mquantization_config\u001b[49m\u001b[43m \u001b[49m\u001b[38;5;241;43m=\u001b[39;49m\u001b[43m \u001b[49m\u001b[43mquantization_config\u001b[49m\u001b[43m  \u001b[49m\u001b[43m,\u001b[49m\u001b[43mcache_dir\u001b[49m\u001b[38;5;241;43m=\u001b[39;49m\u001b[38;5;124;43m\"\u001b[39;49m\u001b[38;5;124;43mD:/Models\u001b[39;49m\u001b[38;5;124;43m\"\u001b[39;49m\u001b[43m)\u001b[49m\n\u001b[0;32m      5\u001b[0m vision_projector \u001b[38;5;241m=\u001b[39m load_vision_projector()\n\u001b[0;32m      6\u001b[0m llm_dim \u001b[38;5;241m=\u001b[39m llm\u001b[38;5;241m.\u001b[39mconfig\u001b[38;5;241m.\u001b[39mhidden_size\n",
      "\u001b[1;31mTypeError\u001b[0m: load_llm() got an unexpected keyword argument 'quantization_config'"
     ]
    }
   ],
   "source": [
    "\n",
    "device = \"cuda\" if torch.cuda.is_available() else \"cpu\"\n",
    "quantization_config = BitsAndBytesConfig(load_in_8bit=True, bnb_4bit_compute_dtype=torch.bfloat16)\n",
    "vision_model , image_processor = load_vision_model(\"laion/CLIP-ViT-H-14-laion2B-s32B-b79K\", device = device, cache_dir=\"D:/Models\" )\n",
    "llm, tokenizer = load_llm(\"llama3/8B-instruct\", device = device, quantization_config = quantization_config  ,cache_dir=\"D:/Models\")\n",
    "vision_projector = load_vision_projector()\n",
    "llm_dim = llm.config.hidden_size\n",
    "vision_dim = vision_model.config.hidden_size\n",
    "learned_positional = load_learned_encoding(vision_dim, llm_dim, \"linear\")\n"
   ]
  },
  {
   "cell_type": "code",
   "execution_count": null,
   "metadata": {},
   "outputs": [],
   "source": [
    "from loader.model_loader import load_model_and_tokenizer(\"llama3/8B-instruct\", device = device, quantization_config = quantization_config  ,cache_dir=\"D:/Models\")"
   ]
  },
  {
   "cell_type": "code",
   "execution_count": null,
   "metadata": {},
   "outputs": [],
   "source": [
    "\n",
    "def get_positional_encoding(max_seq_len, embedding_dim):\n",
    "    position_encoding = torch.zeros(max_seq_len, embedding_dim)\n",
    "    position = torch.arange(0, max_seq_len).unsqueeze(1)\n",
    "    div_term = torch.exp(torch.arange(0, embedding_dim, 2) * (-math.log(10000.0) / embedding_dim))\n",
    "    position_encoding[:, 0::2] = torch.sin(position * div_term)\n",
    "    position_encoding[:, 1::2] = torch.cos(position * div_term)\n",
    "    return position_encoding\n",
    "\n",
    "def prepare( inputs, images):\n",
    "    if(images is None):\n",
    "        return 0\n",
    "    images = load_images(images)\n",
    "\n",
    "def encode_images_positional_encoding( images, padding = True, learned_encoding = True):\n",
    "    #make sure all images are already preprocessed \n",
    "    MAX_LEN = 8\n",
    "\n",
    "    image_tensors = image_processor.preprocess(images, return_tensors='pt')['pixel_values'].to(device)\n",
    "    #for the case where there are less than 8 images, add empty tensors\n",
    "    if(padding):\n",
    "        for i in range(8-len(images)):\n",
    "            image_tensors = torch.cat((image_tensors, torch.zeros_like(image_tensors[0]).unsqueeze(0)), dim=0)\n",
    "        \n",
    "    with torch.no_grad(): \n",
    "        batch_features = vison_model(image_tensors, output_hidden_states=True)\n",
    "        image_features = batch_features.hidden_states[-1]\n",
    "        image_features = feature_select(image_features, \"patch\")\n",
    "        # Positional Encoding\n",
    "        max_seq_len = image_features.shape[1]\n",
    "        pos_encoding = get_positional_encoding(max_seq_len, image_features.shape[-1]).to(device)\n",
    "        image_features += pos_encoding\n",
    "\n",
    "    # Learned Encoding\n",
    "    if learned_encoding:\n",
    "        image_features += learned_encoding_layer(image_features)\n",
    "\n",
    "        return projector(image_features)\n",
    "\n",
    "def images_uhd_positional_encoding( image):\n",
    "    #lower the image with padding to \n",
    "    resized_image = resize_with_padding(image, 336)\n",
    "    splits , h , w = split_image(image)\n",
    "    encode_images_positional_encoding(splits)\n",
    "\n",
    "def imaged_uhd_arranged( image):\n",
    "    resized_image = resize_with_padding(image, 336)\n",
    "    splits , h , w = split_image(image)\n",
    "    #get the embedding of the tokens \",\" and \"\\n\" from the llm tokenizer\n",
    "    tokens = tokenizer.tokenize(\"\\n\")\n",
    "    #get the embedding\n",
    "    token_embeddings = llm.get_input_embeddings()\n",
    "    #get the embedding of the tokens\n",
    "    token_embeddings = token_embeddings(torch.tensor(tokens).to(device))\n",
    "\n",
    "    encode_images_no_positional_encoding(splits ,padding = False)\n",
    "    for i in range(h):\n",
    "        for j in range(w):\n",
    "            print(f\"Image {i*w+j} at position {i},{j}\")\n",
    "\n",
    "def encode_images_no_positional_encoding( image):\n",
    "    return 0"
   ]
  }
 ],
 "metadata": {
  "kernelspec": {
   "display_name": "Python 3",
   "language": "python",
   "name": "python3"
  },
  "language_info": {
   "codemirror_mode": {
    "name": "ipython",
    "version": 3
   },
   "file_extension": ".py",
   "mimetype": "text/x-python",
   "name": "python",
   "nbconvert_exporter": "python",
   "pygments_lexer": "ipython3",
   "version": "3.12.3"
  }
 },
 "nbformat": 4,
 "nbformat_minor": 2
}
